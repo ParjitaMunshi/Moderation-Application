{
 "cells": [
  {
   "cell_type": "code",
   "execution_count": 1,
   "metadata": {
    "id": "7W3Dte5Pf-MW"
   },
   "outputs": [],
   "source": [
    "# Import necessary libraries\n",
    "import pandas as pd\n",
    "import numpy as np\n",
    "from nltk.corpus import stopwords\n",
    "import re\n",
    "import string\n",
    "from sklearn.model_selection import train_test_split\n",
    "from sklearn.metrics import accuracy_score, classification_report, roc_auc_score, confusion_matrix\n",
    "from nltk.stem import WordNetLemmatizer, PorterStemmer\n",
    "from sklearn.feature_extraction.text import TfidfVectorizer\n",
    "from sklearn.linear_model import LogisticRegression\n",
    "from sklearn.naive_bayes import MultinomialNB, GaussianNB\n",
    "from sklearn.multiclass import OneVsRestClassifier\n",
    "import seaborn as sns\n",
    "import matplotlib.pyplot as plt"
   ]
  },
  {
   "cell_type": "code",
   "execution_count": 2,
   "metadata": {
    "id": "E_O-wJq7UKvG"
   },
   "outputs": [],
   "source": [
    "# Set plotting style and size\n",
    "plt.style.use('ggplot')\n",
    "plt.rcParams['figure.figsize'] = (15, 10)"
   ]
  },
  {
   "cell_type": "code",
   "execution_count": 3,
   "metadata": {
    "id": "G6_QyoMeUTws"
   },
   "outputs": [],
   "source": [
    "# Load the dataset\n",
    "df = pd.read_csv('train.csv')"
   ]
  },
  {
   "cell_type": "code",
   "execution_count": 4,
   "metadata": {},
   "outputs": [
    {
     "name": "stderr",
     "output_type": "stream",
     "text": [
      "/shared/centos7/anaconda3/2021.05/lib/python3.8/site-packages/seaborn/_decorators.py:36: FutureWarning: Pass the following variables as keyword args: x, y. From version 0.12, the only valid positional argument will be `data`, and passing other arguments without an explicit keyword will result in an error or misinterpretation.\n",
      "  warnings.warn(\n"
     ]
    },
    {
     "data": {
      "image/png": "[encoded data removed]",
      "text/plain": [
       "<Figure size 432x288 with 1 Axes>"
      ]
     },
     "metadata": {
      "needs_background": "light"
     },
     "output_type": "display_data"
    }
   ],
   "source": [
    "# Visualize the distribution of toxic labels\n",
    "cols_target = ['toxic', 'severe_toxic', 'obscene', 'threat', 'insult', 'identity_hate']\n",
    "x = df[cols_target].sum().index\n",
    "y = df[cols_target].sum()\n",
    "sns.barplot(x, y)\n",
    "plt.show()"
   ]
  },
  {
   "cell_type": "code",
   "execution_count": 5,
   "metadata": {
    "colab": {
     "base_uri": "https://localhost:8080/",
     "height": 112
    },
    "id": "NE6SPwl2UX69",
    "outputId": "3e957160-fd60-4760-fbae-01abe96415f9"
   },
   "outputs": [],
   "source": [
    "def clean_text(text):\n",
    "    text =  text.lower()\n",
    "    text = re.sub(r\"i'm\", \"i am\", text)\n",
    "    text = re.sub(r\"r\", \"\", text)\n",
    "    text = re.sub(r\"he's\", \"he is\", text)\n",
    "    text = re.sub(r\"she's\", \"she is\", text)\n",
    "    text = re.sub(r\"it's\", \"it is\", text)\n",
    "    text = re.sub(r\"that's\", \"that is\", text)\n",
    "    text = re.sub(r\"what's\", \"that is\", text)\n",
    "    text = re.sub(r\"where's\", \"where is\", text)\n",
    "    text = re.sub(r\"how's\", \"how is\", text)\n",
    "    text = re.sub(r\"'ll\", \" will\", text)\n",
    "    text = re.sub(r\"'ve\", \" have\", text)\n",
    "    text = re.sub(r\"'re\", \" are\", text)\n",
    "    text = re.sub(r\"'d\", \" would\", text)\n",
    "    text = re.sub(r\"'re\", \" are\", text)\n",
    "    text = re.sub(r\"won't\", \"will not\", text)\n",
    "    text = re.sub(r\"can't\", \"cannot\", text)\n",
    "    text = re.sub(r\"n't\", \" not\", text)\n",
    "    text = re.sub(r\"n'\", \"ng\", text)\n",
    "    text = re.sub(r\"'bout\", \"about\", text)\n",
    "    text = re.sub(r\"'til\", \"until\", text)\n",
    "    text = re.sub(r\"[-()#/@;:{}`+=~|.!?,]\", \"\", text)\n",
    "    text = text.translate(str.maketrans('', '', string.punctuation))\n",
    "    text = re.sub(\"(\\W)\",\" \",text)\n",
    "    text = re.sub('S*dS*s*','', text)\n",
    "    return text"
   ]
  },
  {
   "cell_type": "code",
   "execution_count": 6,
   "metadata": {},
   "outputs": [
    {
     "data": {
      "text/html": [
       "<div>\n",
       "<style scoped>\n",
       "    .dataframe tbody tr th:only-of-type {\n",
       "        vertical-align: middle;\n",
       "    }\n",
       "\n",
       "    .dataframe tbody tr th {\n",
       "        vertical-align: top;\n",
       "    }\n",
       "\n",
       "    .dataframe thead th {\n",
       "        text-align: right;\n",
       "    }\n",
       "</style>\n",
       "<table border=\"1\" class=\"dataframe\">\n",
       "  <thead>\n",
       "    <tr style=\"text-align: right;\">\n",
       "      <th></th>\n",
       "      <th>comment_text</th>\n",
       "      <th>clean_text</th>\n",
       "    </tr>\n",
       "  </thead>\n",
       "  <tbody>\n",
       "    <tr>\n",
       "      <th>0</th>\n",
       "      <td>Explanation\\nWhy the edits made under my usern...</td>\n",
       "      <td>explanation why the eits mae une my usename ha...</td>\n",
       "    </tr>\n",
       "    <tr>\n",
       "      <th>1</th>\n",
       "      <td>D'aww! He matches this background colour I'm s...</td>\n",
       "      <td>aww he matches this backgoun colou i am seemin...</td>\n",
       "    </tr>\n",
       "  </tbody>\n",
       "</table>\n",
       "</div>"
      ],
      "text/plain": [
       "                                        comment_text  \\\n",
       "0  Explanation\\nWhy the edits made under my usern...   \n",
       "1  D'aww! He matches this background colour I'm s...   \n",
       "\n",
       "                                          clean_text  \n",
       "0  explanation why the eits mae une my usename ha...  \n",
       "1  aww he matches this backgoun colou i am seemin...  "
      ]
     },
     "execution_count": 6,
     "metadata": {},
     "output_type": "execute_result"
    }
   ],
   "source": [
    "# Apply text cleaning to the 'comment_text' column\n",
    "df[\"text\"] = df['comment_text'].apply(lambda text: clean_text(text))\n",
    "\n",
    "# Correct the lambda function to close the parenthesis\n",
    "df['clean_text'] = df['comment_text'].apply(lambda text: clean_text(text))\n",
    "\n",
    "# Now you can access 'clean_text' column\n",
    "df[['comment_text', 'clean_text']].head(2)\n"
   ]
  },
  {
   "cell_type": "code",
   "execution_count": 7,
   "metadata": {
    "id": "vpwfuGCUUYAe"
   },
   "outputs": [],
   "source": [
    "cols_target = ['toxic','severe_toxic','obscene','threat','insult','identity_hate']\n",
    "X_train, X_test, y_train, y_test = train_test_split(df['text'], df[cols_target], test_size=0.3)"
   ]
  },
  {
   "cell_type": "code",
   "execution_count": 8,
   "metadata": {
    "colab": {
     "base_uri": "https://localhost:8080/"
    },
    "id": "PfU1Z2udUYD6",
    "outputId": "54ede1aa-664d-4fa7-a093-b456898c0e96"
   },
   "outputs": [
    {
     "name": "stdout",
     "output_type": "stream",
     "text": [
      "(105074,)\n",
      "(105074, 6)\n",
      "(45033,)\n",
      "(45033, 6)\n"
     ]
    }
   ],
   "source": [
    "print(X_train.shape)\n",
    "print(y_train.shape)\n",
    "print(X_test.shape)\n",
    "print(y_test.shape)"
   ]
  },
  {
   "cell_type": "code",
   "execution_count": 9,
   "metadata": {
    "colab": {
     "base_uri": "https://localhost:8080/"
    },
    "id": "DEQtirmrU1X_",
    "outputId": "ba66e290-b606-4a7b-b35e-93f419157c93"
   },
   "outputs": [
    {
     "name": "stderr",
     "output_type": "stream",
     "text": [
      "/shared/centos7/anaconda3/2021.05/lib/python3.8/site-packages/sklearn/feature_extraction/text.py:388: UserWarning: Your stop_words may be inconsistent with your preprocessing. Tokenizing the stop words generated tokens ['w'] not in stop_words.\n",
      "  warnings.warn('Your stop_words may be inconsistent with '\n"
     ]
    }
   ],
   "source": [
    "vect = TfidfVectorizer(\n",
    "    strip_accents='unicode',\n",
    "    analyzer='word',\n",
    "    token_pattern=r'w{1,}',\n",
    "    ngram_range=(1, 3),\n",
    "    stop_words='english',\n",
    "    sublinear_tf=True)\n",
    "X_train = vect.fit_transform(X_train)\n",
    "X_test = vect.transform(X_test)"
   ]
  },
  {
   "cell_type": "code",
   "execution_count": 10,
   "metadata": {
    "id": "fWLr0MnEU1a0"
   },
   "outputs": [],
   "source": [
    "# Model training using Multinomial Naive Bayes\n",
    "model = OneVsRestClassifier(MultinomialNB())\n",
    "model.fit(X_train, y_train)\n",
    "y_pred = model.predict(X_test)"
   ]
  },
  {
   "cell_type": "code",
   "execution_count": 11,
   "metadata": {},
   "outputs": [
    {
     "name": "stdout",
     "output_type": "stream",
     "text": [
      "Accuracy: 0.8984078342548798\n",
      "Classification Report:\n",
      "                precision    recall  f1-score   support\n",
      "\n",
      "        toxic       0.40      0.00      0.00      4288\n",
      " severe_toxic       0.00      0.00      0.00       464\n",
      "      obscene       0.00      0.00      0.00      2392\n",
      "       threat       0.06      0.01      0.01       146\n",
      "       insult       0.17      0.00      0.00      2213\n",
      "identity_hate       0.00      0.00      0.00       397\n",
      "\n",
      "    micro avg       0.06      0.00      0.00      9900\n",
      "    macro avg       0.10      0.00      0.00      9900\n",
      " weighted avg       0.21      0.00      0.00      9900\n",
      "  samples avg       0.00      0.00      0.00      9900\n",
      "\n",
      "\n",
      "Threshold: 0.3\n",
      "Classification Report:\n",
      "                precision    recall  f1-score   support\n",
      "\n",
      "        toxic       0.40      0.00      0.00      4288\n",
      " severe_toxic       0.00      0.00      0.00       464\n",
      "      obscene       0.00      0.00      0.00      2392\n",
      "       threat       0.06      0.01      0.01       146\n",
      "       insult       0.17      0.00      0.00      2213\n",
      "identity_hate       0.00      0.00      0.00       397\n",
      "\n",
      "    micro avg       0.06      0.00      0.00      9900\n",
      "    macro avg       0.10      0.00      0.00      9900\n",
      " weighted avg       0.21      0.00      0.00      9900\n",
      "  samples avg       1.00      0.90      0.90      9900\n",
      "\n",
      "\n",
      "Threshold: 0.4\n",
      "Classification Report:\n",
      "                precision    recall  f1-score   support\n",
      "\n",
      "        toxic       0.40      0.00      0.00      4288\n",
      " severe_toxic       0.00      0.00      0.00       464\n",
      "      obscene       0.00      0.00      0.00      2392\n",
      "       threat       0.06      0.01      0.01       146\n",
      "       insult       0.17      0.00      0.00      2213\n",
      "identity_hate       0.00      0.00      0.00       397\n",
      "\n",
      "    micro avg       0.06      0.00      0.00      9900\n",
      "    macro avg       0.10      0.00      0.00      9900\n",
      " weighted avg       0.21      0.00      0.00      9900\n",
      "  samples avg       1.00      0.90      0.90      9900\n",
      "\n",
      "\n",
      "Threshold: 0.5\n",
      "Classification Report:\n",
      "                precision    recall  f1-score   support\n",
      "\n",
      "        toxic       0.40      0.00      0.00      4288\n",
      " severe_toxic       0.00      0.00      0.00       464\n",
      "      obscene       0.00      0.00      0.00      2392\n",
      "       threat       0.06      0.01      0.01       146\n",
      "       insult       0.17      0.00      0.00      2213\n",
      "identity_hate       0.00      0.00      0.00       397\n",
      "\n",
      "    micro avg       0.06      0.00      0.00      9900\n",
      "    macro avg       0.10      0.00      0.00      9900\n",
      " weighted avg       0.21      0.00      0.00      9900\n",
      "  samples avg       1.00      0.90      0.90      9900\n",
      "\n",
      "\n",
      "Threshold: 0.6\n",
      "Classification Report:\n",
      "                precision    recall  f1-score   support\n",
      "\n",
      "        toxic       0.40      0.00      0.00      4288\n",
      " severe_toxic       0.00      0.00      0.00       464\n",
      "      obscene       0.00      0.00      0.00      2392\n",
      "       threat       0.06      0.01      0.01       146\n",
      "       insult       0.17      0.00      0.00      2213\n",
      "identity_hate       0.00      0.00      0.00       397\n",
      "\n",
      "    micro avg       0.06      0.00      0.00      9900\n",
      "    macro avg       0.10      0.00      0.00      9900\n",
      " weighted avg       0.21      0.00      0.00      9900\n",
      "  samples avg       1.00      0.90      0.90      9900\n",
      "\n",
      "\n",
      "Threshold: 0.7\n",
      "Classification Report:\n",
      "                precision    recall  f1-score   support\n",
      "\n",
      "        toxic       0.40      0.00      0.00      4288\n",
      " severe_toxic       0.00      0.00      0.00       464\n",
      "      obscene       0.00      0.00      0.00      2392\n",
      "       threat       0.06      0.01      0.01       146\n",
      "       insult       0.17      0.00      0.00      2213\n",
      "identity_hate       0.00      0.00      0.00       397\n",
      "\n",
      "    micro avg       0.06      0.00      0.00      9900\n",
      "    macro avg       0.10      0.00      0.00      9900\n",
      " weighted avg       0.21      0.00      0.00      9900\n",
      "  samples avg       1.00      0.90      0.90      9900\n",
      "\n"
     ]
    },
    {
     "name": "stderr",
     "output_type": "stream",
     "text": [
      "/shared/centos7/anaconda3/2021.05/lib/python3.8/site-packages/sklearn/metrics/_classification.py:1245: UndefinedMetricWarning: Precision and F-score are ill-defined and being set to 0.0 in samples with no predicted labels. Use `zero_division` parameter to control this behavior.\n",
      "  _warn_prf(average, modifier, msg_start, len(result))\n",
      "/shared/centos7/anaconda3/2021.05/lib/python3.8/site-packages/sklearn/metrics/_classification.py:1245: UndefinedMetricWarning: Recall and F-score are ill-defined and being set to 0.0 in samples with no true labels. Use `zero_division` parameter to control this behavior.\n",
      "  _warn_prf(average, modifier, msg_start, len(result))\n"
     ]
    }
   ],
   "source": [
    "# Assess overall model performance\n",
    "print(\"Accuracy:\", accuracy_score(y_test, y_pred))\n",
    "print(\"Classification Report:\\n\", classification_report(y_test, y_pred, target_names=cols_target))\n",
    "\n",
    "threshold_values = [0.3, 0.4, 0.5, 0.6, 0.7]  # Adjust as needed\n",
    "for threshold in threshold_values:\n",
    "    y_pred_adjusted = (y_pred >= threshold).astype(int)\n",
    "    print(f\"\\nThreshold: {threshold}\")\n",
    "    print(\"Classification Report:\\n\", classification_report(y_test, y_pred_adjusted, target_names=cols_target, zero_division=1))\n"
   ]
  },
  {
   "cell_type": "code",
   "execution_count": 12,
   "metadata": {
    "id": "QrnxaakQcWJN"
   },
   "outputs": [],
   "source": [
    "# Compute confusion matrices for each class\n",
    "cfs = []\n",
    "for i in range(6):\n",
    "    cf = np.asarray(confusion_matrix(y_test[cols_target[i]], y_pred[:, i]))\n",
    "    cfs.append(cf)"
   ]
  },
  {
   "cell_type": "code",
   "execution_count": 13,
   "metadata": {
    "id": "MEX3k5c8U1eW"
   },
   "outputs": [],
   "source": [
    "# Define a function to print confusion matrices\n",
    "def print_confusion_matrix(confusion_matrix, axes, class_label, class_names, c, fontsize=14):\n",
    "    df_cm = pd.DataFrame(confusion_matrix, index=class_names, columns=class_names)\n",
    "    heatmap = sns.heatmap(df_cm, annot=True, cmap=c, fmt=\"d\", cbar=False, ax=axes)\n",
    "    heatmap.yaxis.set_ticklabels(heatmap.yaxis.get_ticklabels(), rotation=0, ha='right', fontsize=fontsize)\n",
    "    heatmap.xaxis.set_ticklabels(heatmap.xaxis.get_ticklabels(), rotation=45, ha='right', fontsize=fontsize)\n",
    "    axes.set_ylabel('True label')\n",
    "    axes.set_xlabel('Predicted label')\n",
    "    axes.set_title(\"Confusion Matrix for the class - \" + class_label)"
   ]
  },
  {
   "cell_type": "code",
   "execution_count": 14,
   "metadata": {
    "colab": {
     "base_uri": "https://localhost:8080/",
     "height": 707
    },
    "id": "WmTaboKAVCis",
    "outputId": "bc1b14f6-fb95-4384-92ce-c7b24586c8a8"
   },
   "outputs": [
    {
     "data": {
      "image/png": "[encoded data removed]",
      "text/plain": [
       "<Figure size 864x504 with 6 Axes>"
      ]
     },
     "metadata": {
      "needs_background": "light"
     },
     "output_type": "display_data"
    }
   ],
   "source": [
    "# Visualize confusion matrices\n",
    "fig, ax = plt.subplots(3, 2, figsize=(12, 7))\n",
    "cmaps = ['Accent', 'Greens', 'Pastel1', 'Wistia', 'Pastel2', 'plasma']\n",
    "for axes, cfs_matrix, label, i in zip(ax.flatten(), cfs, cols_target, range(6)):\n",
    "    c = cmaps[i]\n",
    "    print_confusion_matrix(cfs_matrix, axes, label, [\"N\", \"Y\"], c, 14)\n",
    "fig.tight_layout()\n",
    "plt.show()"
   ]
  },
  {
   "cell_type": "code",
   "execution_count": 15,
   "metadata": {
    "colab": {
     "base_uri": "https://localhost:8080/",
     "height": 456
    },
    "id": "iwsmmSOzVFJr",
    "outputId": "59612811-8a41-49ac-d2bb-ffe9637a19dd"
   },
   "outputs": [
    {
     "name": "stderr",
     "output_type": "stream",
     "text": [
      "/shared/centos7/anaconda3/2021.05/lib/python3.8/site-packages/sklearn/metrics/_classification.py:1245: UndefinedMetricWarning: Precision and F-score are ill-defined and being set to 0.0 in samples with no predicted labels. Use `zero_division` parameter to control this behavior.\n",
      "  _warn_prf(average, modifier, msg_start, len(result))\n",
      "/shared/centos7/anaconda3/2021.05/lib/python3.8/site-packages/sklearn/metrics/_classification.py:1245: UndefinedMetricWarning: Recall and F-score are ill-defined and being set to 0.0 in samples with no true labels. Use `zero_division` parameter to control this behavior.\n",
      "  _warn_prf(average, modifier, msg_start, len(result))\n"
     ]
    },
    {
     "data": {
      "text/html": [
       "<style type=\"text/css\">\n",
       "#T_1b0cb_row0_col0, #T_1b0cb_row3_col1, #T_1b0cb_row3_col2, #T_1b0cb_row6_col3, #T_1b0cb_row7_col3, #T_1b0cb_row8_col3, #T_1b0cb_row9_col3 {\n",
       "  background-color: #f2f2f2;\n",
       "  color: #000000;\n",
       "}\n",
       "#T_1b0cb_row0_col1, #T_1b0cb_row0_col2, #T_1b0cb_row1_col0, #T_1b0cb_row1_col1, #T_1b0cb_row1_col2, #T_1b0cb_row1_col3, #T_1b0cb_row2_col0, #T_1b0cb_row2_col1, #T_1b0cb_row2_col2, #T_1b0cb_row3_col3, #T_1b0cb_row4_col1, #T_1b0cb_row4_col2, #T_1b0cb_row5_col0, #T_1b0cb_row5_col1, #T_1b0cb_row5_col2, #T_1b0cb_row5_col3, #T_1b0cb_row6_col1, #T_1b0cb_row6_col2, #T_1b0cb_row8_col1, #T_1b0cb_row8_col2, #T_1b0cb_row9_col0, #T_1b0cb_row9_col1, #T_1b0cb_row9_col2 {\n",
       "  background-color: #fbb4ae;\n",
       "  color: #000000;\n",
       "}\n",
       "#T_1b0cb_row0_col3, #T_1b0cb_row4_col0 {\n",
       "  background-color: #decbe4;\n",
       "  color: #000000;\n",
       "}\n",
       "#T_1b0cb_row2_col3, #T_1b0cb_row7_col0 {\n",
       "  background-color: #ccebc5;\n",
       "  color: #000000;\n",
       "}\n",
       "#T_1b0cb_row3_col0, #T_1b0cb_row4_col3, #T_1b0cb_row6_col0, #T_1b0cb_row7_col1, #T_1b0cb_row7_col2 {\n",
       "  background-color: #b3cde3;\n",
       "  color: #000000;\n",
       "}\n",
       "#T_1b0cb_row8_col0 {\n",
       "  background-color: #fed9a6;\n",
       "  color: #000000;\n",
       "}\n",
       "</style>\n",
       "<table id=\"T_1b0cb\">\n",
       "  <thead>\n",
       "    <tr>\n",
       "      <th class=\"blank level0\" >&nbsp;</th>\n",
       "      <th id=\"T_1b0cb_level0_col0\" class=\"col_heading level0 col0\" >precision</th>\n",
       "      <th id=\"T_1b0cb_level0_col1\" class=\"col_heading level0 col1\" >recall</th>\n",
       "      <th id=\"T_1b0cb_level0_col2\" class=\"col_heading level0 col2\" >f1-score</th>\n",
       "      <th id=\"T_1b0cb_level0_col3\" class=\"col_heading level0 col3\" >support</th>\n",
       "    </tr>\n",
       "  </thead>\n",
       "  <tbody>\n",
       "    <tr>\n",
       "      <th id=\"T_1b0cb_level0_row0\" class=\"row_heading level0 row0\" >toxic</th>\n",
       "      <td id=\"T_1b0cb_row0_col0\" class=\"data row0 col0\" >0.400000</td>\n",
       "      <td id=\"T_1b0cb_row0_col1\" class=\"data row0 col1\" >0.000466</td>\n",
       "      <td id=\"T_1b0cb_row0_col2\" class=\"data row0 col2\" >0.000932</td>\n",
       "      <td id=\"T_1b0cb_row0_col3\" class=\"data row0 col3\" >4288</td>\n",
       "    </tr>\n",
       "    <tr>\n",
       "      <th id=\"T_1b0cb_level0_row1\" class=\"row_heading level0 row1\" >severe_toxic</th>\n",
       "      <td id=\"T_1b0cb_row1_col0\" class=\"data row1 col0\" >0.000000</td>\n",
       "      <td id=\"T_1b0cb_row1_col1\" class=\"data row1 col1\" >0.000000</td>\n",
       "      <td id=\"T_1b0cb_row1_col2\" class=\"data row1 col2\" >0.000000</td>\n",
       "      <td id=\"T_1b0cb_row1_col3\" class=\"data row1 col3\" >464</td>\n",
       "    </tr>\n",
       "    <tr>\n",
       "      <th id=\"T_1b0cb_level0_row2\" class=\"row_heading level0 row2\" >obscene</th>\n",
       "      <td id=\"T_1b0cb_row2_col0\" class=\"data row2 col0\" >0.000000</td>\n",
       "      <td id=\"T_1b0cb_row2_col1\" class=\"data row2 col1\" >0.000000</td>\n",
       "      <td id=\"T_1b0cb_row2_col2\" class=\"data row2 col2\" >0.000000</td>\n",
       "      <td id=\"T_1b0cb_row2_col3\" class=\"data row2 col3\" >2392</td>\n",
       "    </tr>\n",
       "    <tr>\n",
       "      <th id=\"T_1b0cb_level0_row3\" class=\"row_heading level0 row3\" >threat</th>\n",
       "      <td id=\"T_1b0cb_row3_col0\" class=\"data row3 col0\" >0.062500</td>\n",
       "      <td id=\"T_1b0cb_row3_col1\" class=\"data row3 col1\" >0.006849</td>\n",
       "      <td id=\"T_1b0cb_row3_col2\" class=\"data row3 col2\" >0.012346</td>\n",
       "      <td id=\"T_1b0cb_row3_col3\" class=\"data row3 col3\" >146</td>\n",
       "    </tr>\n",
       "    <tr>\n",
       "      <th id=\"T_1b0cb_level0_row4\" class=\"row_heading level0 row4\" >insult</th>\n",
       "      <td id=\"T_1b0cb_row4_col0\" class=\"data row4 col0\" >0.166667</td>\n",
       "      <td id=\"T_1b0cb_row4_col1\" class=\"data row4 col1\" >0.000452</td>\n",
       "      <td id=\"T_1b0cb_row4_col2\" class=\"data row4 col2\" >0.000901</td>\n",
       "      <td id=\"T_1b0cb_row4_col3\" class=\"data row4 col3\" >2213</td>\n",
       "    </tr>\n",
       "    <tr>\n",
       "      <th id=\"T_1b0cb_level0_row5\" class=\"row_heading level0 row5\" >identity_hate</th>\n",
       "      <td id=\"T_1b0cb_row5_col0\" class=\"data row5 col0\" >0.000000</td>\n",
       "      <td id=\"T_1b0cb_row5_col1\" class=\"data row5 col1\" >0.000000</td>\n",
       "      <td id=\"T_1b0cb_row5_col2\" class=\"data row5 col2\" >0.000000</td>\n",
       "      <td id=\"T_1b0cb_row5_col3\" class=\"data row5 col3\" >397</td>\n",
       "    </tr>\n",
       "    <tr>\n",
       "      <th id=\"T_1b0cb_level0_row6\" class=\"row_heading level0 row6\" >micro avg</th>\n",
       "      <td id=\"T_1b0cb_row6_col0\" class=\"data row6 col0\" >0.062500</td>\n",
       "      <td id=\"T_1b0cb_row6_col1\" class=\"data row6 col1\" >0.000404</td>\n",
       "      <td id=\"T_1b0cb_row6_col2\" class=\"data row6 col2\" >0.000803</td>\n",
       "      <td id=\"T_1b0cb_row6_col3\" class=\"data row6 col3\" >9900</td>\n",
       "    </tr>\n",
       "    <tr>\n",
       "      <th id=\"T_1b0cb_level0_row7\" class=\"row_heading level0 row7\" >macro avg</th>\n",
       "      <td id=\"T_1b0cb_row7_col0\" class=\"data row7 col0\" >0.104861</td>\n",
       "      <td id=\"T_1b0cb_row7_col1\" class=\"data row7 col1\" >0.001295</td>\n",
       "      <td id=\"T_1b0cb_row7_col2\" class=\"data row7 col2\" >0.002363</td>\n",
       "      <td id=\"T_1b0cb_row7_col3\" class=\"data row7 col3\" >9900</td>\n",
       "    </tr>\n",
       "    <tr>\n",
       "      <th id=\"T_1b0cb_level0_row8\" class=\"row_heading level0 row8\" >weighted avg</th>\n",
       "      <td id=\"T_1b0cb_row8_col0\" class=\"data row8 col0\" >0.211430</td>\n",
       "      <td id=\"T_1b0cb_row8_col1\" class=\"data row8 col1\" >0.000404</td>\n",
       "      <td id=\"T_1b0cb_row8_col2\" class=\"data row8 col2\" >0.000787</td>\n",
       "      <td id=\"T_1b0cb_row8_col3\" class=\"data row8 col3\" >9900</td>\n",
       "    </tr>\n",
       "    <tr>\n",
       "      <th id=\"T_1b0cb_level0_row9\" class=\"row_heading level0 row9\" >samples avg</th>\n",
       "      <td id=\"T_1b0cb_row9_col0\" class=\"data row9 col0\" >0.000019</td>\n",
       "      <td id=\"T_1b0cb_row9_col1\" class=\"data row9 col1\" >0.000050</td>\n",
       "      <td id=\"T_1b0cb_row9_col2\" class=\"data row9 col2\" >0.000024</td>\n",
       "      <td id=\"T_1b0cb_row9_col3\" class=\"data row9 col3\" >9900</td>\n",
       "    </tr>\n",
       "  </tbody>\n",
       "</table>\n"
      ],
      "text/plain": [
       "<pandas.io.formats.style.Styler at 0x2b686fc9dfa0>"
      ]
     },
     "execution_count": 15,
     "metadata": {},
     "output_type": "execute_result"
    }
   ],
   "source": [
    "# Generate a classification report and visualize it with a heatmap\n",
    "cr = pd.DataFrame(classification_report(y_test, y_pred, target_names=cols_target, output_dict=True)).T\n",
    "cr['support'] = cr.support.apply(int)\n",
    "cr.style.background_gradient(cmap='Pastel1')"
   ]
  },
  {
   "cell_type": "code",
   "execution_count": 16,
   "metadata": {
    "id": "fwzKQu1yVFXz"
   },
   "outputs": [],
   "source": [
    "# Define a function to make predictions on new comments\n",
    "def make_test_predictions(df, classifier):\n",
    "    df.comment_text = df.comment_text.apply(clean_text)\n",
    "    X_test = df.comment_text\n",
    "    X_test_transformed = vect.transform(X_test)\n",
    "    y_test_pred = classifier.predict_proba(X_test_transformed)\n",
    "    a = np.array(y_test_pred[0])\n",
    "    sns.barplot(x=cols_target, y=a*100)\n",
    "    plt.ylim((0, 100))\n",
    "    result = sum(y_test_pred[0])\n",
    "    if result >= 1:\n",
    "        plt.title('The comment is Toxic')\n",
    "    else:\n",
    "        plt.title('The comment is Non Toxic')"
   ]
  },
  {
   "cell_type": "code",
   "execution_count": 17,
   "metadata": {
    "colab": {
     "base_uri": "https://localhost:8080/",
     "height": 854
    },
    "id": "EJthufbxVNkN",
    "outputId": "e7ba5ca5-75b3-4178-ae01-f76a55002b79"
   },
   "outputs": [
    {
     "data": {
      "image/png": "[encoded data removed]",
      "text/plain": [
       "<Figure size 432x288 with 1 Axes>"
      ]
     },
     "metadata": {
      "needs_background": "light"
     },
     "output_type": "display_data"
    }
   ],
   "source": [
    "# Example usage of make_test_predictions with a new comment\n",
    "comment_text = \"how can you say that stupid\"\n",
    "comment = {'id': [1], 'comment_text': [comment_text]}\n",
    "comment = pd.DataFrame(comment)\n",
    "make_test_predictions(comment, model)"
   ]
  },
  {
   "cell_type": "code",
   "execution_count": 18,
   "metadata": {
    "colab": {
     "base_uri": "https://localhost:8080/",
     "height": 854
    },
    "id": "mjJ-WI4Paj5n",
    "outputId": "ee68ced6-7af0-43fd-9edb-f23b823473cc"
   },
   "outputs": [
    {
     "data": {
      "image/png": "[encoded data removed]",
      "text/plain": [
       "<Figure size 432x288 with 1 Axes>"
      ]
     },
     "metadata": {
      "needs_background": "light"
     },
     "output_type": "display_data"
    }
   ],
   "source": [
    "comment_text = \"You are a good musician\"\n",
    "comment = {'id': [1], 'comment_text': [comment_text]}\n",
    "comment = pd.DataFrame(comment)\n",
    "make_test_predictions(comment, model)"
   ]
  },
  {
   "cell_type": "code",
   "execution_count": null,
   "metadata": {},
   "outputs": [],
   "source": []
  }
 ],
 "metadata": {
  "colab": {
   "provenance": []
  },
  "kernelspec": {
   "display_name": "Python 3",
   "language": "python",
   "name": "python3"
  },
  "language_info": {
   "codemirror_mode": {
    "name": "ipython",
    "version": 3
   },
   "file_extension": ".py",
   "mimetype": "text/x-python",
   "name": "python",
   "nbconvert_exporter": "python",
   "pygments_lexer": "ipython3",
   "version": "3.8.8"
  }
 },
 "nbformat": 4,
 "nbformat_minor": 4
}
